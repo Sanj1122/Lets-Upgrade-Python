{
 "cells": [
  {
   "cell_type": "markdown",
   "metadata": {},
   "source": [
    "# Question 1"
   ]
  },
  {
   "cell_type": "code",
   "execution_count": 7,
   "metadata": {},
   "outputs": [],
   "source": [
    "class bank_account():\n",
    "    def __init__(self,ownername,balance):\n",
    "        self.ownername=ownername\n",
    "        self.balance=balance\n",
    "        print(\"Your Account is Created\")\n",
    "    def deposit(self):\n",
    "        print(\"Bank Account Holder Name:\",self.ownername)\n",
    "        print(\"Your Current Balance:\",self.balance)\n",
    "        amt=int(input(\"Enter the amount to deposit: \"))\n",
    "        self.balance+=amt\n",
    "        print(\"Your new Balance: \",self.balance)\n",
    "    def withdraw(self):\n",
    "        print(\"Bank Account Holder Name:\",self.ownername)\n",
    "        print(\"Your Current Balance:\",self.balance)\n",
    "        amt=int(input(\"Enter the amount to withdraw: \"))\n",
    "        if amt>self.balance:\n",
    "            print(\"Insufficient Balance\")\n",
    "        else:\n",
    "            self.balance-=amt\n",
    "            print(\"Your new Balance: \",self.balance)\n",
    "        \n",
    "\n",
    "    "
   ]
  },
  {
   "cell_type": "code",
   "execution_count": 8,
   "metadata": {},
   "outputs": [
    {
     "name": "stdout",
     "output_type": "stream",
     "text": [
      "Your Account is Created\n",
      "Bank Account Holder Name: Sanj\n",
      "Your Current Balance: 10000\n",
      "Enter the amount to deposit: 5000\n",
      "Your new Balance:  15000\n",
      "Bank Account Holder Name: Sanj\n",
      "Your Current Balance: 15000\n",
      "Enter the amount to withdraw: 16000\n",
      "Insufficient Balance\n"
     ]
    }
   ],
   "source": [
    "acc=bank_account('Sanj',10000)\n",
    "acc.deposit()\n",
    "acc.withdraw()"
   ]
  },
  {
   "cell_type": "code",
   "execution_count": 9,
   "metadata": {},
   "outputs": [
    {
     "name": "stdout",
     "output_type": "stream",
     "text": [
      "Your Account is Created\n",
      "Bank Account Holder Name: Sanj\n",
      "Your Current Balance: 10000\n",
      "Enter the amount to deposit: 6000\n",
      "Your new Balance:  16000\n",
      "Bank Account Holder Name: Sanj\n",
      "Your Current Balance: 16000\n",
      "Enter the amount to withdraw: 15000\n",
      "Your new Balance:  1000\n"
     ]
    }
   ],
   "source": [
    "acc=bank_account('Sanj',10000)\n",
    "acc.deposit()\n",
    "acc.withdraw()"
   ]
  },
  {
   "cell_type": "markdown",
   "metadata": {},
   "source": [
    "# QUESTION 2"
   ]
  },
  {
   "cell_type": "code",
   "execution_count": 10,
   "metadata": {},
   "outputs": [],
   "source": [
    "import math\n",
    "class cone():\n",
    "    def __init__(self,r,h):\n",
    "        self.r=r\n",
    "        self.h=h\n",
    "    def volume(self):\n",
    "        volume=(1/3)*math.pi*self.r*self.r*self.h\n",
    "        print(\"Volume of Cone:\",volume)\n",
    "    def surfacearea(self):\n",
    "        base=math.pi*self.r*self.r\n",
    "        print(\"Base: \",base)\n",
    "        side=math.pi*self.r*math.sqrt(self.r*self.r+self.h*self.h)\n",
    "        print(\"side: \",side)\n",
    "        surface=base+side\n",
    "        print(\"Surface area of a cone: \",surface)"
   ]
  },
  {
   "cell_type": "code",
   "execution_count": 11,
   "metadata": {},
   "outputs": [
    {
     "name": "stdout",
     "output_type": "stream",
     "text": [
      "Volume of Cone: 523.5987755982989\n",
      "Base:  314.1592653589793\n",
      "side:  351.2407365520363\n",
      "Surface area of a cone:  665.4000019110156\n"
     ]
    }
   ],
   "source": [
    "area=cone(10,5)\n",
    "area.volume()\n",
    "area.surfacearea()"
   ]
  },
  {
   "cell_type": "code",
   "execution_count": null,
   "metadata": {},
   "outputs": [],
   "source": []
  }
 ],
 "metadata": {
  "kernelspec": {
   "display_name": "Python 3",
   "language": "python",
   "name": "python3"
  },
  "language_info": {
   "codemirror_mode": {
    "name": "ipython",
    "version": 3
   },
   "file_extension": ".py",
   "mimetype": "text/x-python",
   "name": "python",
   "nbconvert_exporter": "python",
   "pygments_lexer": "ipython3",
   "version": "3.7.6"
  }
 },
 "nbformat": 4,
 "nbformat_minor": 4
}
